{
 "cells": [
  {
   "cell_type": "code",
   "execution_count": 1,
   "id": "971fe731",
   "metadata": {},
   "outputs": [],
   "source": [
    "import numpy as np\n",
    "import sys\n",
    "import os\n",
    "sys.path.append(os.getcwd()+'/src/')\n",
    "from LCD import *"
   ]
  },
  {
   "cell_type": "code",
   "execution_count": 2,
   "id": "e2ab65da",
   "metadata": {},
   "outputs": [],
   "source": [
    "dist, n = \"normal\", 10\n",
    "d = 2"
   ]
  },
  {
   "cell_type": "code",
   "execution_count": 3,
   "id": "f7eea9a6",
   "metadata": {},
   "outputs": [],
   "source": [
    "seed = 1"
   ]
  },
  {
   "cell_type": "code",
   "execution_count": 4,
   "id": "191a6b42",
   "metadata": {},
   "outputs": [],
   "source": [
    "if dist in (\"normal\",\"laplace\"):\n",
    "    sample = Sample(n=n,d=4,dist=dist,random_state=seed)\n",
    "elif dist == \"stock\":\n",
    "    # An example of customized data set\n",
    "    import pandas as pd\n",
    "    df = pd.read_csv('stock_returns_pool1.csv')\n",
    "    X = df.iloc[-10000:,1:].values\n",
    "    X/=np.std(X,axis=0)\n",
    "    sample = Sample(X=X,dist=\"stock\",random_state=1)"
   ]
  },
  {
   "cell_type": "code",
   "execution_count": 5,
   "id": "029cd3bd",
   "metadata": {},
   "outputs": [],
   "source": [
    "N0dict = {\"normal\":[12,16,20,24], \"laplace\":[18,22,26,30], \"stock\":[14,18,22,26]}"
   ]
  },
  {
   "cell_type": "code",
   "execution_count": 6,
   "id": "6988f7a6",
   "metadata": {},
   "outputs": [
    {
     "name": "stdout",
     "output_type": "stream",
     "text": [
      "12 4613\n",
      "16 14596\n",
      "20 35666\n",
      "24 73992\n"
     ]
    }
   ],
   "source": [
    "for N0 in N0dict[dist]:\n",
    "    sample.generate_feas_grid_mat(method =\"uniform\",N0=N0)\n",
    "    print(N0, sample.N)"
   ]
  },
  {
   "cell_type": "code",
   "execution_count": 7,
   "id": "1dc2009c",
   "metadata": {},
   "outputs": [
    {
     "name": "stdout",
     "output_type": "stream",
     "text": [
      "algorithm started...\n"
     ]
    },
    {
     "data": {
      "application/vnd.jupyter.widget-view+json": {
       "model_id": "fbd06f4c83a64db39c22feee2c9abf32",
       "version_major": 2,
       "version_minor": 0
      },
      "text/plain": [
       "  0%|          | 0/100 [00:00<?, ?it/s]"
      ]
     },
     "metadata": {},
     "output_type": "display_data"
    },
    {
     "name": "stdout",
     "output_type": "stream",
     "text": [
      "6.744790317732678 6.7447432952874875\n",
      "algorithm finished!\n",
      "\n",
      "running time:  \u001b[1m 00:00:00.80 \u001b[0;0m \n",
      "\n",
      "min discretized obj achieved:  \u001b[1m 6.744790317732678 \u001b[0;0m\n"
     ]
    },
    {
     "data": {
      "text/plain": [
       "6.693961985392523"
      ]
     },
     "execution_count": 7,
     "metadata": {},
     "output_type": "execute_result"
    }
   ],
   "source": [
    "N0list = N0dict[dist]\n",
    "sample.generate_feas_grid_mat(method =\"uniform\",N0=N0list[0])\n",
    "nclcd1 = NCLCD(sample,K=10,maxIters = 100,tol=1e-4, plot=False)\n",
    "nclcd1.subgradient()\n",
    "init_kwargs = dict()\n",
    "init_kwargs[\"init_suffix\"] = \"_nc_init_10_100_1e-04_%d\"%(N0list[0])\n",
    "init_kwargs[\"phi_start\"] = nclcd1.iterates[nclcd1.disc_arg_min].phi\n",
    "nclcd1.calcExactFinalObjective(nclcd1.iterates[nclcd1.disc_arg_min].phi)"
   ]
  },
  {
   "cell_type": "code",
   "execution_count": 8,
   "id": "74264dec",
   "metadata": {},
   "outputs": [],
   "source": [
    "random_state = 42"
   ]
  },
  {
   "cell_type": "code",
   "execution_count": 9,
   "id": "026292d1",
   "metadata": {},
   "outputs": [
    {
     "name": "stdout",
     "output_type": "stream",
     "text": [
      "algorithm started...\n"
     ]
    },
    {
     "data": {
      "application/vnd.jupyter.widget-view+json": {
       "model_id": "6118315fc0f94422ad8d211e7dd6cba7",
       "version_major": 2,
       "version_minor": 0
      },
      "text/plain": [
       "  0%|          | 0/129 [00:00<?, ?it/s]"
      ]
     },
     "metadata": {},
     "output_type": "display_data"
    },
    {
     "name": "stdout",
     "output_type": "stream",
     "text": [
      "Iteration 17 :\n",
      "N0 changed to 16\n",
      "N changed to 14596\n",
      "Iteration 33 :\n",
      "N0 changed to 20\n",
      "N changed to 35666\n",
      "Iteration 65 :\n",
      "N0 changed to 24\n",
      "N changed to 73992\n"
     ]
    }
   ],
   "source": [
    "## RS-DI\n",
    "sigma = 1e-4\n",
    "N0list = N0dict[dist]\n",
    "clcd = ConvexLCD(sample,maxIters = 128,maxtime=28800,random_state=random_state, evaluation=False,plot=False)\n",
    "phi_hat = clcd.randomized_smoothing_approx(init_method=\"given\",init_kwargs=init_kwargs,sigma=sigma, N0list=N0list,grid_method =\"uniform\")"
   ]
  },
  {
   "cell_type": "code",
   "execution_count": null,
   "id": "7d4934f9",
   "metadata": {},
   "outputs": [],
   "source": [
    "## RS-RI\n",
    "sigma = 1e-4\n",
    "Nlist = [10000,20000,40000,80000]\n",
    "clcd = ConvexLCD(sample,maxIters = 128,maxtime=28800,random_state=random_state, evaluation=False,plot=False)\n",
    "phi_hat = clcd.randomized_smoothing_stoch(init_method=\"given\",init_kwargs=init_kwargs,sigma=sigma, Nlist= Nlist)"
   ]
  },
  {
   "cell_type": "code",
   "execution_count": null,
   "id": "727df18a",
   "metadata": {},
   "outputs": [
    {
     "ename": "NameError",
     "evalue": "name 'random_state' is not defined",
     "output_type": "error",
     "traceback": [
      "\u001b[1;31m---------------------------------------------------------------------------\u001b[0m",
      "\u001b[1;31mNameError\u001b[0m                                 Traceback (most recent call last)",
      "Cell \u001b[1;32mIn[10], line 4\u001b[0m\n\u001b[0;32m      2\u001b[0m sigma \u001b[39m=\u001b[39m \u001b[39m1e-3\u001b[39m\n\u001b[0;32m      3\u001b[0m N0list \u001b[39m=\u001b[39m N0dict[dist]\n\u001b[1;32m----> 4\u001b[0m clcd \u001b[39m=\u001b[39m ConvexLCD(sample,maxIters \u001b[39m=\u001b[39m \u001b[39m128\u001b[39m,maxtime\u001b[39m=\u001b[39m\u001b[39m36000\u001b[39m,random_state\u001b[39m=\u001b[39mrandom_state, evaluation\u001b[39m=\u001b[39m\u001b[39mFalse\u001b[39;00m, plot\u001b[39m=\u001b[39m\u001b[39mFalse\u001b[39;00m)\n\u001b[0;32m      5\u001b[0m phi_hat \u001b[39m=\u001b[39m clcd\u001b[39m.\u001b[39mnesterov_smoothing_approx(init_method\u001b[39m=\u001b[39m\u001b[39m\"\u001b[39m\u001b[39mgiven\u001b[39m\u001b[39m\"\u001b[39m,init_kwargs\u001b[39m=\u001b[39minit_kwargs,sigma\u001b[39m=\u001b[39msigma, N0list\u001b[39m=\u001b[39m N0list,grid_method \u001b[39m=\u001b[39m\u001b[39m\"\u001b[39m\u001b[39muniform\u001b[39m\u001b[39m\"\u001b[39m)\n",
      "\u001b[1;31mNameError\u001b[0m: name 'random_state' is not defined"
     ]
    }
   ],
   "source": [
    "## NS-DI\n",
    "sigma = 1e-3\n",
    "N0list = N0dict[dist]\n",
    "clcd = ConvexLCD(sample,maxIters = 128,maxtime=36000,random_state=random_state, evaluation=False, plot=False)\n",
    "phi_hat = clcd.nesterov_smoothing_approx(init_method=\"given\",init_kwargs=init_kwargs,sigma=sigma, N0list= N0list,grid_method =\"uniform\")"
   ]
  },
  {
   "cell_type": "code",
   "execution_count": null,
   "id": "3460448d",
   "metadata": {},
   "outputs": [
    {
     "ename": "NameError",
     "evalue": "name 'init_kwargs' is not defined",
     "output_type": "error",
     "traceback": [
      "\u001b[1;31m---------------------------------------------------------------------------\u001b[0m",
      "\u001b[1;31mNameError\u001b[0m                                 Traceback (most recent call last)",
      "Cell \u001b[1;32mIn[11], line 5\u001b[0m\n\u001b[0;32m      3\u001b[0m N0list \u001b[39m=\u001b[39m [\u001b[39m10000\u001b[39m,\u001b[39m20000\u001b[39m,\u001b[39m40000\u001b[39m,\u001b[39m80000\u001b[39m]\n\u001b[0;32m      4\u001b[0m clcd \u001b[39m=\u001b[39m ConvexLCD(sample,maxIters \u001b[39m=\u001b[39m \u001b[39m128\u001b[39m,maxtime\u001b[39m=\u001b[39m\u001b[39m36000\u001b[39m,random_state\u001b[39m=\u001b[39mrandom_state, evaluation\u001b[39m=\u001b[39m\u001b[39mFalse\u001b[39;00m, plot\u001b[39m=\u001b[39m\u001b[39mFalse\u001b[39;00m)\n\u001b[1;32m----> 5\u001b[0m phi_hat \u001b[39m=\u001b[39m clcd\u001b[39m.\u001b[39mrandomized_smoothing_stoch(init_method\u001b[39m=\u001b[39m\u001b[39m\"\u001b[39m\u001b[39mgiven\u001b[39m\u001b[39m\"\u001b[39m,init_kwargs\u001b[39m=\u001b[39minit_kwargs,sigma\u001b[39m=\u001b[39msigma, Nlist\u001b[39m=\u001b[39m Nlist)\n",
      "\u001b[1;31mNameError\u001b[0m: name 'init_kwargs' is not defined"
     ]
    }
   ],
   "source": [
    "## NS-RI\n",
    "sigma = 1e-3\n",
    "N0list = [10000,20000,40000,80000]\n",
    "clcd = ConvexLCD(sample,maxIters = 128,maxtime=36000,random_state=random_state, evaluation=False, plot=False)\n",
    "phi_hat = clcd.randomized_smoothing_stoch(init_method=\"given\",init_kwargs=init_kwargs,sigma=sigma, Nlist= Nlist)"
   ]
  },
  {
   "cell_type": "code",
   "execution_count": null,
   "id": "8bccbade",
   "metadata": {},
   "outputs": [],
   "source": []
  },
  {
   "cell_type": "code",
   "execution_count": null,
   "id": "53fbb648",
   "metadata": {},
   "outputs": [],
   "source": []
  },
  {
   "cell_type": "code",
   "execution_count": null,
   "id": "0730bff6",
   "metadata": {},
   "outputs": [],
   "source": []
  },
  {
   "cell_type": "code",
   "execution_count": null,
   "id": "181f5693",
   "metadata": {},
   "outputs": [],
   "source": []
  }
 ],
 "metadata": {
  "kernelspec": {
   "display_name": "Python 3",
   "language": "python",
   "name": "python3"
  },
  "language_info": {
   "codemirror_mode": {
    "name": "ipython",
    "version": 3
   },
   "file_extension": ".py",
   "mimetype": "text/x-python",
   "name": "python",
   "nbconvert_exporter": "python",
   "pygments_lexer": "ipython3",
   "version": "3.10.11"
  }
 },
 "nbformat": 4,
 "nbformat_minor": 5
}
