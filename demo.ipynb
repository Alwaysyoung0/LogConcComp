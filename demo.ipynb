{
 "cells": [
  {
   "cell_type": "code",
   "execution_count": 42,
   "id": "971fe731",
   "metadata": {},
   "outputs": [],
   "source": [
    "import numpy as np\n",
    "import sys\n",
    "import os\n",
    "sys.path.append(os.getcwd()+'/src/')\n",
    "from LCD import *"
   ]
  },
  {
   "cell_type": "code",
   "execution_count": 43,
   "id": "e2ab65da",
   "metadata": {},
   "outputs": [],
   "source": [
    "dist, n = \"normal\", 1000\n",
    "d = 4"
   ]
  },
  {
   "cell_type": "code",
   "execution_count": 44,
   "id": "f7eea9a6",
   "metadata": {},
   "outputs": [],
   "source": [
    "seed = 1"
   ]
  },
  {
   "cell_type": "code",
   "execution_count": 45,
   "id": "191a6b42",
   "metadata": {},
   "outputs": [],
   "source": [
    "if dist in (\"normal\",\"laplace\"):\n",
    "    sample = Sample(n=n,d=2,dist=dist,random_state=seed)\n",
    "elif dist == \"stock\":\n",
    "    # An example of customized data set\n",
    "    import pandas as pd\n",
    "    df = pd.read_csv('stock_returns_pool1.csv')\n",
    "    X = df.iloc[-10000:,1:].values\n",
    "    X/=np.std(X,axis=0)\n",
    "    sample = Sample(X=X,dist=\"stock\",random_state=1)"
   ]
  },
  {
   "cell_type": "code",
   "execution_count": 46,
   "id": "029cd3bd",
   "metadata": {},
   "outputs": [],
   "source": [
    "N0dict = {\"normal\":[12,16,20,24], \"laplace\":[18,22,26,30], \"stock\":[14,18,22,26]}"
   ]
  },
  {
   "cell_type": "code",
   "execution_count": 47,
   "id": "6988f7a6",
   "metadata": {},
   "outputs": [
    {
     "name": "stdout",
     "output_type": "stream",
     "text": [
      "12 110\n",
      "16 193\n",
      "20 304\n",
      "24 433\n"
     ]
    }
   ],
   "source": [
    "for N0 in N0dict[dist]:\n",
    "    sample.generate_feas_grid_mat(method =\"uniform\",N0=N0)\n",
    "    print(N0, sample.N)"
   ]
  },
  {
   "cell_type": "code",
   "execution_count": 48,
   "id": "1dc2009c",
   "metadata": {},
   "outputs": [
    {
     "name": "stdout",
     "output_type": "stream",
     "text": [
      "algorithm started...\n"
     ]
    },
    {
     "data": {
      "application/vnd.jupyter.widget-view+json": {
       "model_id": "8534127f2bbf41f38d519df73071e25c",
       "version_major": 2,
       "version_minor": 0
      },
      "text/plain": [
       "  0%|          | 0/100 [00:00<?, ?it/s]"
      ]
     },
     "metadata": {},
     "output_type": "display_data"
    },
    {
     "name": "stdout",
     "output_type": "stream",
     "text": [
      "3.844019953561969 3.8439902615390498\n",
      "algorithm finished!\n",
      "\n",
      "running time:  \u001b[1m 00:00:00.08 \u001b[0;0m \n",
      "\n",
      "min discretized obj achieved:  \u001b[1m 3.844019953561969 \u001b[0;0m\n"
     ]
    },
    {
     "data": {
      "text/plain": [
       "3.8705027725688628"
      ]
     },
     "execution_count": 48,
     "metadata": {},
     "output_type": "execute_result"
    }
   ],
   "source": [
    "N0list = N0dict[dist]\n",
    "sample.generate_feas_grid_mat(method =\"uniform\",N0=N0list[0])\n",
    "nclcd1 = NCLCD(sample,K=10,maxIters = 100,tol=1e-4, plot=False)\n",
    "nclcd1.subgradient()\n",
    "init_kwargs = dict()\n",
    "init_kwargs[\"init_suffix\"] = \"_nc_init_10_100_1e-04_%d\"%(N0list[0])\n",
    "init_kwargs[\"phi_start\"] = nclcd1.iterates[nclcd1.disc_arg_min].phi\n",
    "nclcd1.calcExactFinalObjective(nclcd1.iterates[nclcd1.disc_arg_min].phi)"
   ]
  },
  {
   "cell_type": "code",
   "execution_count": 49,
   "id": "74264dec",
   "metadata": {},
   "outputs": [],
   "source": [
    "random_state = 42"
   ]
  },
  {
   "cell_type": "code",
   "execution_count": 50,
   "id": "026292d1",
   "metadata": {},
   "outputs": [
    {
     "name": "stdout",
     "output_type": "stream",
     "text": [
      "algorithm started...\n"
     ]
    },
    {
     "data": {
      "application/vnd.jupyter.widget-view+json": {
       "model_id": "057aadfd43c444ec9248366c85276e4b",
       "version_major": 2,
       "version_minor": 0
      },
      "text/plain": [
       "  0%|          | 0/129 [00:00<?, ?it/s]"
      ]
     },
     "metadata": {},
     "output_type": "display_data"
    }
   ],
   "source": [
    "## RS-DI\n",
    "sigma = 1e-4\n",
    "N0list = N0dict[dist]\n",
    "clcd = ConvexLCD(sample,maxIters = 128,maxtime=28800,random_state=random_state, evaluation=False,plot=False)\n",
    "phi_hat = clcd.randomized_smoothing_approx(init_method=\"given\",init_kwargs=init_kwargs,sigma=sigma, N0list=N0list,grid_method =\"uniform\")"
   ]
  },
  {
   "cell_type": "code",
   "execution_count": 24,
   "id": "7d4934f9",
   "metadata": {},
   "outputs": [
    {
     "name": "stdout",
     "output_type": "stream",
     "text": [
      "algorithm started...\n"
     ]
    },
    {
     "data": {
      "application/vnd.jupyter.widget-view+json": {
       "model_id": "223b025f929a457586d59b65e2dfa1d1",
       "version_major": 2,
       "version_minor": 0
      },
      "text/plain": [
       "  0%|          | 0/129 [00:00<?, ?it/s]"
      ]
     },
     "metadata": {},
     "output_type": "display_data"
    },
    {
     "ename": "GurobiError",
     "evalue": "Unable to retrieve attribute 'X'",
     "output_type": "error",
     "traceback": [
      "\u001b[1;31m---------------------------------------------------------------------------\u001b[0m",
      "\u001b[1;31mGurobiError\u001b[0m                               Traceback (most recent call last)",
      "Cell \u001b[1;32mIn[24], line 5\u001b[0m\n\u001b[0;32m      3\u001b[0m Nlist \u001b[39m=\u001b[39m [\u001b[39m10000\u001b[39m,\u001b[39m20000\u001b[39m,\u001b[39m40000\u001b[39m,\u001b[39m80000\u001b[39m]\n\u001b[0;32m      4\u001b[0m clcd \u001b[39m=\u001b[39m ConvexLCD(sample,maxIters \u001b[39m=\u001b[39m \u001b[39m128\u001b[39m,maxtime\u001b[39m=\u001b[39m\u001b[39m28800\u001b[39m,random_state\u001b[39m=\u001b[39mrandom_state, evaluation\u001b[39m=\u001b[39m\u001b[39mFalse\u001b[39;00m,plot\u001b[39m=\u001b[39m\u001b[39mFalse\u001b[39;00m)\n\u001b[1;32m----> 5\u001b[0m phi_hat \u001b[39m=\u001b[39m clcd\u001b[39m.\u001b[39;49mrandomized_smoothing_stoch(init_method\u001b[39m=\u001b[39;49m\u001b[39m\"\u001b[39;49m\u001b[39mgiven\u001b[39;49m\u001b[39m\"\u001b[39;49m,init_kwargs\u001b[39m=\u001b[39;49minit_kwargs,sigma\u001b[39m=\u001b[39;49msigma, Nlist\u001b[39m=\u001b[39;49m Nlist)\n",
      "File \u001b[1;32mc:\\Users\\linsi\\OneDrive - UBC\\LogConcComp/src\\LCD.py:853\u001b[0m, in \u001b[0;36mConvexLCD.randomized_smoothing_stoch\u001b[1;34m(self, init_method, init_kwargs, D, sigma, beta, Nlist, thres_list, eta_mode)\u001b[0m\n\u001b[0;32m    851\u001b[0m f \u001b[39m=\u001b[39m io\u001b[39m.\u001b[39mStringIO()\n\u001b[0;32m    852\u001b[0m \u001b[39mwith\u001b[39;00m contextlib\u001b[39m.\u001b[39mredirect_stdout(f):\n\u001b[1;32m--> 853\u001b[0m     get_all_from_phi_LP(cur, \u001b[39mself\u001b[39;49m\u001b[39m.\u001b[39;49msample\u001b[39m.\u001b[39;49mX1, \u001b[39mself\u001b[39;49m\u001b[39m.\u001b[39;49msample\u001b[39m.\u001b[39;49mDelta, \u001b[39mself\u001b[39;49m\u001b[39m.\u001b[39;49mw, grid_mat, normalize \u001b[39m=\u001b[39;49m \u001b[39mself\u001b[39;49m\u001b[39m.\u001b[39;49mnormalize, njobs\u001b[39m=\u001b[39;49m \u001b[39mself\u001b[39;49m\u001b[39m.\u001b[39;49mnjobs )\n\u001b[0;32m    854\u001b[0m cur\u001b[39m.\u001b[39mtime \u001b[39m=\u001b[39m time\u001b[39m.\u001b[39mtime()\u001b[39m-\u001b[39mstart_t\n\u001b[0;32m    855\u001b[0m s \u001b[39m+\u001b[39m\u001b[39m=\u001b[39m cur\u001b[39m.\u001b[39mgrad_phi\u001b[39m/\u001b[39mtheta_old\n",
      "File \u001b[1;32mc:\\Users\\linsi\\OneDrive - UBC\\LogConcComp/src\\LCD.py:360\u001b[0m, in \u001b[0;36mget_all_from_phi_LP\u001b[1;34m(iterate, X1, Delta, w, grid_mat, normalize, njobs)\u001b[0m\n\u001b[0;32m    358\u001b[0m \u001b[39melse\u001b[39;00m:\n\u001b[0;32m    359\u001b[0m     \u001b[39mwith\u001b[39;00m pyPool(njobs) \u001b[39mas\u001b[39;00m pool:\n\u001b[1;32m--> 360\u001b[0m         res \u001b[39m=\u001b[39m pool\u001b[39m.\u001b[39;49mstarmap(solve_LPs_gurobi, \u001b[39mzip\u001b[39;49m([phi]\u001b[39m*\u001b[39;49mnjobs,[X1]\u001b[39m*\u001b[39;49mnjobs, np\u001b[39m.\u001b[39;49marray_split(grid_mat,njobs)))\n\u001b[0;32m    361\u001b[0m     integral \u001b[39m=\u001b[39m np\u001b[39m.\u001b[39msum([x[\u001b[39m0\u001b[39m] \u001b[39mfor\u001b[39;00m x \u001b[39min\u001b[39;00m res])\n\u001b[0;32m    362\u001b[0m     grad_int \u001b[39m=\u001b[39m np\u001b[39m.\u001b[39msum(np\u001b[39m.\u001b[39marray([x[\u001b[39m1\u001b[39m] \u001b[39mfor\u001b[39;00m x \u001b[39min\u001b[39;00m res]),axis\u001b[39m=\u001b[39m\u001b[39m0\u001b[39m)        \n",
      "File \u001b[1;32mC:\\Program Files\\WindowsApps\\PythonSoftwareFoundation.Python.3.10_3.10.3056.0_x64__qbz5n2kfra8p0\\lib\\multiprocessing\\pool.py:375\u001b[0m, in \u001b[0;36mPool.starmap\u001b[1;34m(self, func, iterable, chunksize)\u001b[0m\n\u001b[0;32m    369\u001b[0m \u001b[39mdef\u001b[39;00m \u001b[39mstarmap\u001b[39m(\u001b[39mself\u001b[39m, func, iterable, chunksize\u001b[39m=\u001b[39m\u001b[39mNone\u001b[39;00m):\n\u001b[0;32m    370\u001b[0m \u001b[39m    \u001b[39m\u001b[39m'''\u001b[39;00m\n\u001b[0;32m    371\u001b[0m \u001b[39m    Like `map()` method but the elements of the `iterable` are expected to\u001b[39;00m\n\u001b[0;32m    372\u001b[0m \u001b[39m    be iterables as well and will be unpacked as arguments. Hence\u001b[39;00m\n\u001b[0;32m    373\u001b[0m \u001b[39m    `func` and (a, b) becomes func(a, b).\u001b[39;00m\n\u001b[0;32m    374\u001b[0m \u001b[39m    '''\u001b[39;00m\n\u001b[1;32m--> 375\u001b[0m     \u001b[39mreturn\u001b[39;00m \u001b[39mself\u001b[39;49m\u001b[39m.\u001b[39;49m_map_async(func, iterable, starmapstar, chunksize)\u001b[39m.\u001b[39;49mget()\n",
      "File \u001b[1;32mC:\\Program Files\\WindowsApps\\PythonSoftwareFoundation.Python.3.10_3.10.3056.0_x64__qbz5n2kfra8p0\\lib\\multiprocessing\\pool.py:774\u001b[0m, in \u001b[0;36mApplyResult.get\u001b[1;34m(self, timeout)\u001b[0m\n\u001b[0;32m    772\u001b[0m     \u001b[39mreturn\u001b[39;00m \u001b[39mself\u001b[39m\u001b[39m.\u001b[39m_value\n\u001b[0;32m    773\u001b[0m \u001b[39melse\u001b[39;00m:\n\u001b[1;32m--> 774\u001b[0m     \u001b[39mraise\u001b[39;00m \u001b[39mself\u001b[39m\u001b[39m.\u001b[39m_value\n",
      "File \u001b[1;32mC:\\Program Files\\WindowsApps\\PythonSoftwareFoundation.Python.3.10_3.10.3056.0_x64__qbz5n2kfra8p0\\lib\\multiprocessing\\pool.py:125\u001b[0m, in \u001b[0;36mworker\u001b[1;34m(inqueue, outqueue, initializer, initargs, maxtasks, wrap_exception)\u001b[0m\n\u001b[0;32m    123\u001b[0m job, i, func, args, kwds \u001b[39m=\u001b[39m task\n\u001b[0;32m    124\u001b[0m \u001b[39mtry\u001b[39;00m:\n\u001b[1;32m--> 125\u001b[0m     result \u001b[39m=\u001b[39m (\u001b[39mTrue\u001b[39;00m, func(\u001b[39m*\u001b[39margs, \u001b[39m*\u001b[39m\u001b[39m*\u001b[39mkwds))\n\u001b[0;32m    126\u001b[0m \u001b[39mexcept\u001b[39;00m \u001b[39mException\u001b[39;00m \u001b[39mas\u001b[39;00m e:\n\u001b[0;32m    127\u001b[0m     \u001b[39mif\u001b[39;00m wrap_exception \u001b[39mand\u001b[39;00m func \u001b[39mis\u001b[39;00m \u001b[39mnot\u001b[39;00m _helper_reraises_exception:\n",
      "File \u001b[1;32mC:\\Program Files\\WindowsApps\\PythonSoftwareFoundation.Python.3.10_3.10.3056.0_x64__qbz5n2kfra8p0\\lib\\multiprocessing\\pool.py:51\u001b[0m, in \u001b[0;36mstarmapstar\u001b[1;34m(args)\u001b[0m\n\u001b[0;32m     50\u001b[0m \u001b[39mdef\u001b[39;00m \u001b[39mstarmapstar\u001b[39m(args):\n\u001b[1;32m---> 51\u001b[0m     \u001b[39mreturn\u001b[39;00m \u001b[39mlist\u001b[39;49m(itertools\u001b[39m.\u001b[39;49mstarmap(args[\u001b[39m0\u001b[39;49m], args[\u001b[39m1\u001b[39;49m]))\n",
      "File \u001b[1;32mc:\\Users\\linsi\\OneDrive - UBC\\LogConcComp/src\\LCD.py:322\u001b[0m, in \u001b[0;36msolve_LPs_gurobi\u001b[1;34m(phi, X1, X_list)\u001b[0m\n\u001b[0;32m    320\u001b[0m     model\u001b[39m.\u001b[39moptimize()\n\u001b[0;32m    321\u001b[0m     integral \u001b[39m+\u001b[39m\u001b[39m=\u001b[39m np\u001b[39m.\u001b[39mexp(\u001b[39m-\u001b[39mmodel\u001b[39m.\u001b[39mObjVal)\n\u001b[1;32m--> 322\u001b[0m     grad_int \u001b[39m-\u001b[39m\u001b[39m=\u001b[39m np\u001b[39m.\u001b[39mexp(\u001b[39m-\u001b[39mmodel\u001b[39m.\u001b[39mObjVal)\u001b[39m*\u001b[39mnp\u001b[39m.\u001b[39marray(model\u001b[39m.\u001b[39;49mX)\n\u001b[0;32m    324\u001b[0m \u001b[39mreturn\u001b[39;00m integral, grad_int\n",
      "File \u001b[1;32msrc\\gurobipy\\model.pxi:357\u001b[0m, in \u001b[0;36mgurobipy.Model.__getattr__\u001b[1;34m()\u001b[0m\n",
      "File \u001b[1;32msrc\\gurobipy\\model.pxi:1938\u001b[0m, in \u001b[0;36mgurobipy.Model.getAttr\u001b[1;34m()\u001b[0m\n",
      "File \u001b[1;32msrc\\gurobipy\\attrutil.pxi:148\u001b[0m, in \u001b[0;36mgurobipy.__gettypedattrlist\u001b[1;34m()\u001b[0m\n",
      "\u001b[1;31mGurobiError\u001b[0m: Unable to retrieve attribute 'X'"
     ]
    }
   ],
   "source": [
    "## RS-RI\n",
    "sigma = 1e-4\n",
    "Nlist = [10000,20000,40000,80000]\n",
    "clcd = ConvexLCD(sample,maxIters = 128,maxtime=28800,random_state=random_state, evaluation=False,plot=False)\n",
    "phi_hat = clcd.randomized_smoothing_stoch(init_method=\"given\",init_kwargs=init_kwargs,sigma=sigma, Nlist= Nlist)"
   ]
  },
  {
   "cell_type": "code",
   "execution_count": 11,
   "id": "727df18a",
   "metadata": {},
   "outputs": [
    {
     "name": "stdout",
     "output_type": "stream",
     "text": [
      "algorithm started...\n"
     ]
    },
    {
     "data": {
      "application/vnd.jupyter.widget-view+json": {
       "model_id": "67ddbdecc8d247b0bea8ebbeac338ae9",
       "version_major": 2,
       "version_minor": 0
      },
      "text/plain": [
       "  0%|          | 0/129 [00:00<?, ?it/s]"
      ]
     },
     "metadata": {},
     "output_type": "display_data"
    },
    {
     "name": "stdout",
     "output_type": "stream",
     "text": [
      "Iteration 17 :\n",
      "N0 changed to 16\n",
      "N changed to 151\n",
      "Iteration 33 :\n",
      "N0 changed to 20\n",
      "N changed to 236\n",
      "Iteration 65 :\n",
      "N0 changed to 24\n",
      "N changed to 338\n",
      "algorithm finished!\n",
      "\n",
      "running time:  \u001b[1m 00:00:05.08 \u001b[0;0m \n",
      "\n"
     ]
    }
   ],
   "source": [
    "## NS-DI\n",
    "sigma = 1e-3\n",
    "N0list = N0dict[dist]\n",
    "clcd = ConvexLCD(sample,maxIters = 128,maxtime=36000,random_state=random_state, evaluation=False, plot=False)\n",
    "phi_hat = clcd.nesterov_smoothing_approx(init_method=\"given\",init_kwargs=init_kwargs,sigma=sigma, N0list= N0list,grid_method =\"uniform\")"
   ]
  },
  {
   "cell_type": "code",
   "execution_count": 14,
   "id": "3460448d",
   "metadata": {},
   "outputs": [
    {
     "name": "stdout",
     "output_type": "stream",
     "text": [
      "algorithm started...\n"
     ]
    },
    {
     "data": {
      "application/vnd.jupyter.widget-view+json": {
       "model_id": "0f2eccd3f97244dc8672f2737a3ff193",
       "version_major": 2,
       "version_minor": 0
      },
      "text/plain": [
       "  0%|          | 0/129 [00:00<?, ?it/s]"
      ]
     },
     "metadata": {},
     "output_type": "display_data"
    },
    {
     "name": "stdout",
     "output_type": "stream",
     "text": [
      "Iteration 17 :\n",
      "N changed to 20000\n",
      "Iteration 33 :\n",
      "N changed to 40000\n",
      "Iteration 65 :\n",
      "N changed to 80000\n",
      "algorithm finished!\n",
      "\n",
      "running time:  \u001b[1m 00:10:05.25 \u001b[0;0m \n",
      "\n"
     ]
    }
   ],
   "source": [
    "## NS-RI\n",
    "sigma = 1e-3\n",
    "N0list = [10000,20000,40000,80000]\n",
    "clcd = ConvexLCD(sample,maxIters = 128,maxtime=36000,random_state=random_state, evaluation=False, plot=False)\n",
    "phi_hat = clcd.nesterov_smoothing_stoch(init_method=\"given\",init_kwargs=init_kwargs,sigma=sigma, Nlist= Nlist)"
   ]
  }
 ],
 "metadata": {
  "kernelspec": {
   "display_name": "Python 3",
   "language": "python",
   "name": "python3"
  },
  "language_info": {
   "codemirror_mode": {
    "name": "ipython",
    "version": 3
   },
   "file_extension": ".py",
   "mimetype": "text/x-python",
   "name": "python",
   "nbconvert_exporter": "python",
   "pygments_lexer": "ipython3",
   "version": "3.10.11"
  }
 },
 "nbformat": 4,
 "nbformat_minor": 5
}
