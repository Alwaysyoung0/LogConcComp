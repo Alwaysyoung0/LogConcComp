{
 "cells": [
  {
   "cell_type": "code",
   "execution_count": 1,
   "id": "971fe731",
   "metadata": {},
   "outputs": [],
   "source": [
    "import numpy as np\n",
    "import sys\n",
    "import os\n",
    "sys.path.append(os.getcwd()+'/src/')\n",
    "from LCD import *"
   ]
  },
  {
   "cell_type": "code",
   "execution_count": null,
   "id": "e2ab65da",
   "metadata": {},
   "outputs": [],
   "source": [
    "dist, n = \"normal\", 5000\n",
    "d = 4"
   ]
  },
  {
   "cell_type": "code",
   "execution_count": null,
   "id": "f7eea9a6",
   "metadata": {},
   "outputs": [],
   "source": [
    "seed = 1"
   ]
  },
  {
   "cell_type": "code",
   "execution_count": null,
   "id": "191a6b42",
   "metadata": {},
   "outputs": [],
   "source": [
    "if dist in (\"normal\",\"laplace\"):\n",
    "    sample = Sample(n=n,d=4,dist=dist,random_state=seed)\n",
    "elif dist == \"stock\":\n",
    "    # An example of customized data set\n",
    "    import pandas as pd\n",
    "    df = pd.read_csv('stock_returns_pool1.csv')\n",
    "    X = df.iloc[-10000:,1:].values\n",
    "    X/=np.std(X,axis=0)\n",
    "    sample = Sample(X=X,dist=\"stock\",random_state=1)"
   ]
  },
  {
   "cell_type": "code",
   "execution_count": null,
   "id": "029cd3bd",
   "metadata": {},
   "outputs": [],
   "source": [
    "N0dict = {\"normal\":[12,16,20,24], \"laplace\":[18,22,26,30], \"stock\":[14,18,22,26]}"
   ]
  },
  {
   "cell_type": "code",
   "execution_count": null,
   "id": "6988f7a6",
   "metadata": {},
   "outputs": [],
   "source": [
    "for N0 in N0dict[dist]:\n",
    "    sample.generate_feas_grid_mat(method =\"uniform\",N0=N0)\n",
    "    print(N0, sample.N)"
   ]
  },
  {
   "cell_type": "code",
   "execution_count": null,
   "id": "1dc2009c",
   "metadata": {},
   "outputs": [],
   "source": [
    "N0list = N0dict[dist]\n",
    "sample.generate_feas_grid_mat(method =\"uniform\",N0=N0list[0])\n",
    "nclcd1 = NCLCD(sample,K=10,maxIters = 100,tol=1e-4, plot=False)\n",
    "nclcd1.subgradient()\n",
    "init_kwargs = dict()\n",
    "init_kwargs[\"init_suffix\"] = \"_nc_init_10_100_1e-04_%d\"%(N0list[0])\n",
    "init_kwargs[\"phi_start\"] = nclcd1.iterates[nclcd1.disc_arg_min].phi\n",
    "nclcd1.calcExactFinalObjective(nclcd1.iterates[nclcd1.disc_arg_min].phi)"
   ]
  },
  {
   "cell_type": "code",
   "execution_count": null,
   "id": "74264dec",
   "metadata": {},
   "outputs": [],
   "source": [
    "random_state = 42"
   ]
  },
  {
   "cell_type": "code",
   "execution_count": null,
   "id": "026292d1",
   "metadata": {},
   "outputs": [],
   "source": [
    "## RS-DI\n",
    "sigma = 1e-4\n",
    "N0list = N0dict[dist]\n",
    "clcd = ConvexLCD(sample,maxIters = 128,maxtime=28800,random_state=random_state, evaluation=False,plot=False)\n",
    "phi_hat = clcd.randomized_smoothing_approx(init_method=\"given\",init_kwargs=init_kwargs,sigma=sigma, N0list=N0list,grid_method =\"uniform\")"
   ]
  },
  {
   "cell_type": "code",
   "execution_count": null,
   "id": "7d4934f9",
   "metadata": {},
   "outputs": [],
   "source": [
    "## RS-RI\n",
    "sigma = 1e-4\n",
    "Nlist = [10000,20000,40000,80000]\n",
    "clcd = ConvexLCD(sample,maxIters = 128,maxtime=28800,random_state=random_state, evaluation=False,plot=False)\n",
    "phi_hat = clcd.randomized_smoothing_stoch(init_method=\"given\",init_kwargs=init_kwargs,sigma=sigma, Nlist= Nlist)"
   ]
  },
  {
   "cell_type": "code",
   "execution_count": null,
   "id": "727df18a",
   "metadata": {},
   "outputs": [],
   "source": [
    "## NS-DI\n",
    "sigma = 1e-3\n",
    "N0list = N0dict[dist]\n",
    "clcd = ConvexLCD(sample,maxIters = 128,maxtime=36000,random_state=random_state, evaluation=False, plot=False)\n",
    "phi_hat = clcd.nesterov_smoothing_approx(init_method=\"given\",init_kwargs=init_kwargs,sigma=sigma, N0list= N0list,grid_method =\"uniform\")"
   ]
  },
  {
   "cell_type": "code",
   "execution_count": null,
   "id": "3460448d",
   "metadata": {},
   "outputs": [],
   "source": [
    "## NS-RI\n",
    "sigma = 1e-3\n",
    "N0list = [10000,20000,40000,80000]\n",
    "clcd = ConvexLCD(sample,maxIters = 128,maxtime=36000,random_state=random_state, evaluation=False, plot=False)\n",
    "phi_hat = clcd.randomized_smoothing_stoch(init_method=\"given\",init_kwargs=init_kwargs,sigma=sigma, Nlist= Nlist)"
   ]
  }
 ],
 "metadata": {
  "kernelspec": {
   "display_name": "Python 3",
   "language": "python",
   "name": "python3"
  },
  "language_info": {
   "codemirror_mode": {
    "name": "ipython",
    "version": 3
   },
   "file_extension": ".py",
   "mimetype": "text/x-python",
   "name": "python",
   "nbconvert_exporter": "python",
   "pygments_lexer": "ipython3",
   "version": "3.9.2"
  }
 },
 "nbformat": 4,
 "nbformat_minor": 5
}
